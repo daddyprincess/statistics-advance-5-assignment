{
 "cells": [
  {
   "cell_type": "markdown",
   "id": "33969570-bf0b-405a-9100-14986ddd3c06",
   "metadata": {},
   "source": [
    "## Q1. Calculate the 95% confidence interval for a sample of data with a mean of 50 and a standard deviation of 5 using Python. Interpret the results."
   ]
  },
  {
   "cell_type": "code",
   "execution_count": 1,
   "id": "a64093c4-eee7-423e-a5fc-930ea6ee7b85",
   "metadata": {},
   "outputs": [
    {
     "name": "stdout",
     "output_type": "stream",
     "text": [
      "95% Confidence Interval: (48.1329693162095, 51.8670306837905)\n"
     ]
    }
   ],
   "source": [
    "import scipy.stats as stats\n",
    "\n",
    "# Sample mean and standard deviation\n",
    "sample_mean = 50\n",
    "sample_std_dev = 5\n",
    "\n",
    "# Sample size (assuming you have a sufficiently large sample)\n",
    "sample_size = 30\n",
    "\n",
    "# Confidence level (95%)\n",
    "confidence_level = 0.95\n",
    "\n",
    "# Calculate the standard error of the mean (SEM)\n",
    "sem = sample_std_dev / (sample_size ** 0.5)\n",
    "\n",
    "# Calculate the confidence interval\n",
    "confidence_interval = stats.t.interval(confidence_level, df=sample_size - 1, loc=sample_mean, scale=sem)\n",
    "\n",
    "# Print the confidence interval\n",
    "print(\"95% Confidence Interval:\", confidence_interval)\n"
   ]
  },
  {
   "cell_type": "markdown",
   "id": "3feda782-bf0f-4c14-b990-96a9b51b13aa",
   "metadata": {},
   "source": [
    "## Q2. Conduct a chi-square goodness of fit test to determine if the distribution of colors of M&Ms in a bag matches the expected distribution of 20% blue, 20% orange, 20% green, 10% yellow, 10% red, and 20% brown. Use Python to perform the test with a significance level of 0.05."
   ]
  },
  {
   "cell_type": "code",
   "execution_count": null,
   "id": "c0c6a3d7-e168-416f-bf68-ca1dd46f39e4",
   "metadata": {},
   "outputs": [],
   "source": [
    "import numpy as np\n",
    "from scipy.stats import chi2_contingency\n",
    "\n",
    "# Observed counts of each color in the bag\n",
    "observed_counts = [45, 38, 47, 21, 22, 47]  # Replace with your actual counts\n",
    "\n",
    "# Expected counts based on the expected distribution\n",
    "expected_counts = [0.2 * sum(observed_counts)] * 6  # [20%, 20%, 20%, 10%, 10%, 20%] * Total count\n",
    "\n",
    "# Perform the chi-square goodness of fit test\n",
    "chi2, p_value = chi2_contingency([observed_counts, expected_counts])\n",
    "\n",
    "# Set the significance level\n",
    "alpha = 0.05\n",
    "\n",
    "# Check if the p-value is less than the significance level\n",
    "if p_value < alpha:\n",
    "    print(f\"Chi-square test statistic: {chi2}\")\n",
    "    print(f\"P-value: {p_value}\")\n",
    "    print(\"Reject the null hypothesis: The distribution does not match the expected distribution.\")\n",
    "else:\n",
    "    print(f\"Chi-square test statistic: {chi2}\")\n",
    "    print(f\"P-value: {p_value}\")\n",
    "    print(\"Fail to reject the null hypothesis: The distribution matches the expected distribution.\")"
   ]
  },
  {
   "cell_type": "markdown",
   "id": "68799489-d2bb-4d6a-9a01-959e6123e4c0",
   "metadata": {},
   "source": [
    "## Q3. Use Python to calculate the chi-square statistic and p-value for a contingency table with the following data:"
   ]
  },
  {
   "cell_type": "code",
   "execution_count": 2,
   "id": "600e5f57-d817-47ea-9f2b-961340ff7211",
   "metadata": {},
   "outputs": [
    {
     "name": "stdout",
     "output_type": "stream",
     "text": [
      "Chi-square test statistic: 5.833333333333334\n",
      "P-value: 0.05411376622282158\n"
     ]
    }
   ],
   "source": [
    "import numpy as np\n",
    "from scipy.stats import chi2_contingency\n",
    "\n",
    "# Create the contingency table\n",
    "observed_data = np.array([[20, 15],\n",
    "                          [10, 25],\n",
    "                          [15, 20]])\n",
    "\n",
    "# Perform the chi-square test\n",
    "chi2, p_value, _, _ = chi2_contingency(observed_data)\n",
    "\n",
    "# Print the results\n",
    "print(f\"Chi-square test statistic: {chi2}\")\n",
    "print(f\"P-value: {p_value}\")\n"
   ]
  },
  {
   "cell_type": "markdown",
   "id": "7ec3d9ba-2067-4fa8-853e-580ab62d2ba5",
   "metadata": {},
   "source": [
    "## Q4. A study of the prevalence of smoking in a population of 500 individuals found that 60 individuals smoked. Use Python to calculate the 95% confidence interval for the true proportion of individuals in the population who smoke."
   ]
  },
  {
   "cell_type": "code",
   "execution_count": 3,
   "id": "b2214c63-0526-4de0-b816-121fd0acb807",
   "metadata": {},
   "outputs": [
    {
     "name": "stdout",
     "output_type": "stream",
     "text": [
      "95% Confidence Interval: (0.0915, 0.1485)\n"
     ]
    }
   ],
   "source": [
    "import scipy.stats as stats\n",
    "import math\n",
    "\n",
    "# Sample size and number of individuals who smoke\n",
    "n = 500\n",
    "smokers = 60\n",
    "\n",
    "# Calculate the sample proportion\n",
    "p_hat = smokers / n\n",
    "\n",
    "# Set the desired confidence level (95%)\n",
    "confidence_level = 0.95\n",
    "\n",
    "# Calculate the critical value (Z) for the desired confidence level\n",
    "z_critical = stats.norm.ppf(1 - (1 - confidence_level) / 2)\n",
    "\n",
    "# Calculate the margin of error\n",
    "margin_of_error = z_critical * math.sqrt((p_hat * (1 - p_hat)) / n)\n",
    "\n",
    "# Calculate the confidence interval\n",
    "lower_bound = p_hat - margin_of_error\n",
    "upper_bound = p_hat + margin_of_error\n",
    "\n",
    "# Print the confidence interval\n",
    "print(f\"95% Confidence Interval: ({lower_bound:.4f}, {upper_bound:.4f})\")\n"
   ]
  },
  {
   "cell_type": "markdown",
   "id": "e386593a-9787-492f-b895-2ec0693014e7",
   "metadata": {},
   "source": [
    "## Q5. Calculate the 90% confidence interval for a sample of data with a mean of 75 and a standard deviation of 12 using Python. Interpret the results."
   ]
  },
  {
   "cell_type": "code",
   "execution_count": 4,
   "id": "d1d837fb-84c5-4b04-b400-c0eaf5e0d3d2",
   "metadata": {},
   "outputs": [
    {
     "name": "stdout",
     "output_type": "stream",
     "text": [
      "90% Confidence Interval: (73.03, 76.97)\n"
     ]
    }
   ],
   "source": [
    "import scipy.stats as stats\n",
    "\n",
    "# Sample mean, standard deviation, and sample size\n",
    "sample_mean = 75\n",
    "standard_deviation = 12\n",
    "sample_size = 100  # Replace with your sample size\n",
    "\n",
    "# Set the desired confidence level (90%)\n",
    "confidence_level = 0.90\n",
    "\n",
    "# Calculate the critical value (Z) for the desired confidence level\n",
    "z_critical = stats.norm.ppf(1 - (1 - confidence_level) / 2)\n",
    "\n",
    "# Calculate the margin of error\n",
    "margin_of_error = z_critical * (standard_deviation / (sample_size ** 0.5))\n",
    "\n",
    "# Calculate the confidence interval\n",
    "lower_bound = sample_mean - margin_of_error\n",
    "upper_bound = sample_mean + margin_of_error\n",
    "\n",
    "# Print the confidence interval\n",
    "print(f\"90% Confidence Interval: ({lower_bound:.2f}, {upper_bound:.2f})\")\n"
   ]
  },
  {
   "cell_type": "markdown",
   "id": "d220d278-2721-4247-975a-b6970c7eb662",
   "metadata": {},
   "source": [
    "## Q6. Use Python to plot the chi-square distribution with 10 degrees of freedom. Label the axes and shade the area corresponding to a chi-square statistic of 15."
   ]
  },
  {
   "cell_type": "code",
   "execution_count": 5,
   "id": "fa962e8f-b378-427f-a5d8-716c8fb5f0ad",
   "metadata": {},
   "outputs": [
    {
     "data": {
      "image/png": "[encoded data removed]",
      "text/plain": [
       "<Figure size 640x480 with 1 Axes>"
      ]
     },
     "metadata": {},
     "output_type": "display_data"
    }
   ],
   "source": [
    "import numpy as np\n",
    "import matplotlib.pyplot as plt\n",
    "import scipy.stats as stats\n",
    "\n",
    "# Define the degrees of freedom\n",
    "df = 10\n",
    "\n",
    "# Generate x values for the chi-square distribution\n",
    "x = np.linspace(0, 30, 1000)\n",
    "\n",
    "# Calculate the chi-square probability density function (PDF)\n",
    "pdf = stats.chi2.pdf(x, df)\n",
    "\n",
    "# Create a figure and axis\n",
    "fig, ax = plt.subplots()\n",
    "\n",
    "# Plot the chi-square PDF\n",
    "ax.plot(x, pdf, 'b-', lw=2, label='Chi-Square PDF (df=10)')\n",
    "\n",
    "# Shade the area corresponding to a chi-square statistic of 15\n",
    "x_fill = np.linspace(0, 15, 1000)\n",
    "pdf_fill = stats.chi2.pdf(x_fill, df)\n",
    "ax.fill_between(x_fill, pdf_fill, color='red', alpha=0.3, label='Chi-Square Statistic of 15')\n",
    "\n",
    "# Label the axes\n",
    "ax.set_xlabel('Chi-Square Statistic')\n",
    "ax.set_ylabel('Probability Density')\n",
    "ax.set_title('Chi-Square Distribution (df=10)')\n",
    "ax.legend()\n",
    "\n",
    "# Show the plot\n",
    "plt.grid(True)\n",
    "plt.show()"
   ]
  },
  {
   "cell_type": "markdown",
   "id": "24a5d4e5-52e7-4412-9b20-c9a807e55165",
   "metadata": {},
   "source": [
    "## Q7. A random sample of 1000 people was asked if they preferred Coke or Pepsi. Of the sample, 520 preferred Coke.Calculate a 99% confidence interval for the true proportion of people in the population who prefer Coke."
   ]
  },
  {
   "cell_type": "code",
   "execution_count": null,
   "id": "d4445f49-25cc-49b5-91ff-085c5c61c0c0",
   "metadata": {},
   "outputs": [],
   "source": [
    "To calculate a 99% confidence interval for the true proportion of people in the population who prefer Coke, you can use\n",
    "the formula for a confidence interval for a proportion. The formula for a confidence interval for a proportion is:\n",
    "    \n",
    "        P^ ± Z P^(1-P^)/n\n",
    "\n",
    "Where:\n",
    "\n",
    "    ~^p is the sample proportion (in this case, the proportion who prefer Coke).\n",
    "    ~Z is the critical value from the standard normal distribution corresponding to the desired confidence level (99%\n",
    "     confidence corresponds to a critical value of approximately 2.576).\n",
    "    ~n is the sample size.\n",
    "    \n",
    "Given the information in the question:\n",
    "\n",
    "    ~Sample proportion (^p) = 520/1000 = 0.52 (because 520 out of 1000 people preferred Coke).\n",
    "    ~Confidence level = 99%, which corresponds to a critical value of Z = 2.576.\n",
    "    ~Sample size (n) = 1000.\n",
    "    \n",
    "Now, plug these values into the formula:\n",
    "\n",
    "        P^ ± Z p^(1-P^)/n\n",
    "        \n",
    "        0.52 ± 2.576 0.52(1-0.52)/1000\n",
    "\n",
    "Now, calculate the values inside the square root:\n",
    "\n",
    "    0.52 ± 2.576 0.52⋅0.48/1000\n",
    "    0.52±2.576 0.2496/1000\n",
    "    0.52 ± 2.576 . 0.0158\n",
    "\n",
    "Now, calculate the upper and lower bounds of the confidence interval:\n",
    "\n",
    "Upper Bound: 0.52+2.576⋅0.0158=0.5626\n",
    "Lower Bound: 0.52−2.576⋅0.0158=0.4774\n",
    "\n",
    "So, the 99% confidence interval for the true proportion of people in the population who prefer Coke is approximately \n",
    "(0.4774,0.5626). This means that we are 99% confident that the true proportion falls within this interval."
   ]
  },
  {
   "cell_type": "markdown",
   "id": "b104a10f-3d47-4861-8386-97a86b29f915",
   "metadata": {},
   "source": [
    "## Q8. A researcher hypothesizes that a coin is biased towards tails. They flip the coin 100 times and observe45 tails. Conduct a chi-square goodness of fit test to determine if the observed frequencies match the expected frequencies of a fair coin. Use a significance level of 0.05."
   ]
  },
  {
   "cell_type": "code",
   "execution_count": null,
   "id": "1c77f83f-f5b7-44ab-9dab-e34c723e280d",
   "metadata": {},
   "outputs": [],
   "source": [
    "To conduct a chi-square goodness of fit test to determine if the observed frequencies match the expected frequencies of a fair\n",
    "coin, you need to follow these steps:\n",
    "\n",
    "1.Define your hypotheses:\n",
    "\n",
    "    ~Null Hypothesis (H0): The coin is fair, and the observed frequencies match the expected frequencies.\n",
    "    ~Alternative Hypothesis (Ha): The coin is biased towards tails, and the observed frequencies do not match the expected \n",
    "     frequencies.\n",
    "        \n",
    "2.Set your significance level (α): In this case, α is given as 0.05.\n",
    "\n",
    "3.Calculate the expected frequencies for each outcome (heads and tails) assuming a fair coin. For a fair coin, you would \n",
    "  expect a 50% chance of heads and a 50% chance of tails.\n",
    "\n",
    "    ~Expected frequency for heads = (0.5) * 100 = 50\n",
    "    ~Expected frequency for tails = (0.5) * 100 = 50\n",
    "    \n",
    "4.Create a contingency table with the observed and expected frequencies:\n",
    "\n",
    "        Observed\tExpected\n",
    "Heads\t  55          50\n",
    "Tails     45          50\n",
    "\n",
    "5.Calculate the chi-square (χ2) test statistic using the formula:\n",
    "        \n",
    "        X2 = ∑(0-E)2/E\n",
    "\n",
    "Where:\n",
    "\n",
    "    ~O is the observed frequency.\n",
    "    ~E is the expected frequency.\n",
    "Calculate the χ2 value for each cell and then sum them up:\n",
    "    \n",
    "    χ2 = (55−50)2/50+(45−50)2/50=0.5+0.5=1.0 \n",
    "\n",
    "\n",
    "6.Determine the degrees of freedom (df): In a goodness of fit test for a single categorical variable with two categories\n",
    "  (heads and tails), the degrees of freedom is (k−1), where k is the number of categories. In this case, k=2, so \n",
    "df=2−1=1.\n",
    "\n",
    "7.Find the critical chi-square value at the chosen significance level (α) and degrees of freedom (df). You can consult a\n",
    " chi-square distribution table or use a calculator. At α=0.05 and df=1, the critical value is approximately 3.841.\n",
    "\n",
    "Compare the calculated χ2 test statistic to the critical value:\n",
    "\n",
    "    ~If χ2 ≤ critical value, fail to reject the null hypothesis.\n",
    "    ~If χ2 > critical value, reject the null hypothesis.\n",
    "In this case, the calculated χ2 value is 1.0, which is less than the critical value of 3.841. Therefore, you fail to reject\n",
    "the null hypothesis. There is not enough evidence to conclude that the coin is biased towards tails."
   ]
  },
  {
   "cell_type": "markdown",
   "id": "7c9d9a0f-fcae-46fa-b376-d5dc81f8f406",
   "metadata": {},
   "source": [
    "## Q9. A study was conducted to determine if there is an association between smoking status (smoker or non-smoker) and lung cancer diagnosis (yes or no). The results are shown in the contingency table below. Conduct a chi-square test for independence to determine if there is a significant association between smoking status and lung cancer diagnosis."
   ]
  },
  {
   "cell_type": "code",
   "execution_count": null,
   "id": "27690b44-5b26-4b00-a136-aa0138d30a29",
   "metadata": {},
   "outputs": [],
   "source": [
    "To determine if there is a significant association between smoking status and lung cancer diagnosis, you can conduct a chi-\n",
    "square test for independence. This test will help you determine if the two categorical variables (smoking status and lung \n",
    "cancer diagnosis) are independent of each other or if there is a significant association between them.\n",
    "\n",
    "Here's how to conduct the chi-square test for independence:\n",
    "\n",
    "Step 1: Set up hypotheses:\n",
    "\n",
    "    ~Null Hypothesis (H0): Smoking status and lung cancer diagnosis are independent (no association).\n",
    "    ~Alternative Hypothesis (Ha): Smoking status and lung cancer diagnosis are not independent (there is an association).\n",
    "    \n",
    "Step 2: Create a contingency table with the observed frequencies:\n",
    "\n",
    "                 Lung Cancer: Yes\tLung Cancer: No\t    Row Total\n",
    "    Smoker\t          60\t            140\t              200\n",
    "    Non-smoker\t      30\t            170\t              200\n",
    "    Column Total      90\t            310\t              400\n",
    "\n",
    "Step 3: Calculate the expected frequencies for each cell assuming independence. To do this, calculate the expected frequency \n",
    "        for each cell using the formula:\n",
    "\n",
    "    ~Expected frequency = (row total×column total)/grand total\n",
    "\n",
    "For example, the expected frequency for the cell in the first row and first column (smokers with lung cancer) is:\n",
    "\n",
    "    ~Expected frequency = (200×90)/400 = 45\n",
    "\n",
    "Calculate the expected frequencies for all cells in the table.\n",
    "\n",
    "Step 4: Calculate the chi-square (χ2) test statistic using the formula:\n",
    "\n",
    "    χ2 = ∑(O−E)2/E\n",
    "\n",
    "Where:\n",
    "\n",
    "    ~O is the observed frequency in each cell.\n",
    "    ~E is the expected frequency in each cell.\n",
    "    \n",
    "Calculate the χ2 value for each cell, and then sum them up to get the total χ2 value.\n",
    "\n",
    "Step 5: Determine the degrees of freedom (df) for the chi-square test. For a 2x2 contingency table, the degrees of freedom is\n",
    "        (df=(r−1)×(c−1)), where r is the number of rows and c is the number of columns. In this case, df=1.\n",
    "\n",
    "Step 6: Find the critical chi-square value at the chosen significance level (α) and degrees of freedom (df). You can consult\n",
    "        a chi-square distribution table or use a calculator. For example, at α=0.05 and df=1, the critical value is\n",
    "        approximately 3.841.\n",
    "\n",
    "Step 7: Compare the calculated χ2 test statistic to the critical value:\n",
    "\n",
    "    ~If χ2 ≤ critical value, fail to reject the null hypothesis.\n",
    "    ~If χ2 > critical value, reject the null hypothesis.\n",
    "    \n",
    "Calculate the χ2 test statistic using the observed and expected frequencies, then compare it to the critical value to make \n",
    "your decision. If the calculated χ2 is greater than the critical value, you would reject the null hypothesis, indicating a \n",
    "significant association between smoking status and lung cancer diagnosis. Otherwise, you would fail to reject the null \n",
    "hypothesis."
   ]
  },
  {
   "cell_type": "markdown",
   "id": "3427cdfd-e72e-4126-928e-45847641fbb9",
   "metadata": {},
   "source": [
    "## Q10. A study was conducted to determine if the proportion of people who prefer milk chocolate, dark chocolate, or white chocolate is different in the U.S. versus the U.K. A random sample of 500 people fromthe U.S. and a random sample of 500 people from the U.K. were surveyed. The results are shown in the contingency table below. Conduct a chi-square test for independence to determine if there is a significant association between chocolate preference and country of origin."
   ]
  },
  {
   "cell_type": "code",
   "execution_count": null,
   "id": "973c6d06-79cc-4786-9e1c-18572279a53e",
   "metadata": {},
   "outputs": [],
   "source": [
    "To determine if there is a significant association between chocolate preference and the country of origin (U.S. vs. U.K.), you\n",
    "can conduct a chi-square test for independence. This test assesses whether there is an association between two categorical \n",
    "variables.\n",
    "\n",
    "Here are the steps to conduct the chi-square test for independence:\n",
    "\n",
    "Step 1: Set up hypotheses:\n",
    "\n",
    "    ~Null Hypothesis (H0): There is no association between chocolate preference and country of origin (they are independent).\n",
    "    ~Alternative Hypothesis (Ha): There is an association between chocolate preference and country of origin (they are not\n",
    "                                  independent).\n",
    "    \n",
    "Step 2: Create a contingency table with the observed frequencies:\n",
    "\n",
    "                              Milk Chocolate\tDark Chocolate\tWhite Chocolate\t  Row Total\n",
    "                U.S. (n=500)\t200                \t150\t             150\t        500\n",
    "                U.K. (n=500)\t225\t                175\t             100\t        500\n",
    "                Column Total\t425\t                325              250\t        1000\n",
    "Step 3: Calculate the expected frequencies for each cell assuming independence. To do this, calculate the expected frequency \n",
    "        for each cell using the formula:\n",
    "\n",
    "    ~Expected frequency=(row total×column total)/grand total\n",
    "\n",
    "For example, the expected frequency for the cell in the first row and first column (U.S. preference for Milk Chocolate) is:\n",
    "\n",
    "Expected frequency=(500×425)/1000=212.5\n",
    "\n",
    "Calculate the expected frequencies for all cells in the table.\n",
    "\n",
    "Step 4: Calculate the chi-square (χ2) test statistic using the formula:\n",
    "\n",
    "    χ2 =∑ (O−E)2/E\n",
    "\n",
    "    Where:\n",
    "    \n",
    "        ~O is the observed frequency in each cell.\n",
    "        ~E is the expected frequency in each cell.\n",
    "        \n",
    "Calculate the χ2 value for each cell, and then sum them up to get the total χ2 value.\n",
    "\n",
    "Step 5: Determine the degrees of freedom (df) for the chi-square test. For a test of independence, the degrees of freedom is\n",
    "        (df=(r−1)×(c−1)), where r is the number of rows and c is the number of columns. In this case, df=(2−1)×(3−1)=2.\n",
    "\n",
    "Step 6: Find the critical chi-square value at the chosen significance level (α) and degrees of freedom (df). You can consult a \n",
    "        chi-square distribution table or use a calculator. For example, at α=0.05 and df=2, the critical value is\n",
    "        approximately 5.991.\n",
    "\n",
    "Step 7: Compare the calculated χ2 test statistic to the critical value:\n",
    "\n",
    "    ~If χ2 ≤ critical value, fail to reject the null hypothesis.\n",
    "    ~If χ2 > critical value, reject the null hypothesis.\n",
    "Calculate the χ2 test statistic using the observed and expected frequencies, then compare it to the critical value to make \n",
    "your decision. If the calculated χ2 is greater than the critical value, you would reject the null hypothesis, indicating a\n",
    "significant association between chocolate preference and country of origin. Otherwise, you would fail to reject the null\n",
    "hypothesis."
   ]
  },
  {
   "cell_type": "markdown",
   "id": "eb610192-c412-4d43-87c2-c4c0b515abef",
   "metadata": {},
   "source": [
    "## Q11. A random sample of 30 people was selected from a population with an unknown mean and standard deviation. The sample mean was found to be 72 and the sample standard deviation was found to be 10. Conduct a hypothesis test to determine if the population mean is significantly different from 70. Use a significance level of 0.05."
   ]
  },
  {
   "cell_type": "code",
   "execution_count": null,
   "id": "37f80140-8fcf-4ed8-872e-0019bd8ef4b9",
   "metadata": {},
   "outputs": [],
   "source": [
    "To conduct a hypothesis test to determine if the population mean is significantly different from 70, you can use a one-\n",
    "sample t-test since you have the sample mean, sample standard deviation, and want to compare it to a known value (70).\n",
    "Here are the steps for conducting the t-test:\n",
    "\n",
    "Step 1: Set up hypotheses:\n",
    "\n",
    "    ~Null Hypothesis (H0): The population mean (μ) is equal to 70. (H0: μ=70)\n",
    "    ~Alternative Hypothesis (Ha): The population mean (μ) is not equal to 70. (Ha: μ=70).\n",
    "    \n",
    "Step 2: Set the significance level (α): In this case, the significance level is given as 0.05.\n",
    "\n",
    "Step 3: Calculate the test statistic:\n",
    "    \n",
    "The test statistic for a one-sample t-test is calculated using the formula:\n",
    "    \n",
    "            t= xˉ−μ/s/n\n",
    "\n",
    "\n",
    "\n",
    "Where:\n",
    "\n",
    "    ~xˉ is the sample mean (72 in this case).\n",
    "    ~μ is the population mean under the null hypothesis (70 in this case).\n",
    "    ~s is the sample standard deviation (10 in this case).\n",
    "    ~n is the sample size (30 in this case).\n",
    "    \n",
    "Substitute these values into the formula:\n",
    "\n",
    "        t= 72-70 / 10/30\n",
    "\n",
    "Calculate t:\n",
    "\n",
    "        t = 2 / 10/30\n",
    "        t ≈ 3.464\n",
    "\n",
    "Step 4: Find the degrees of freedom (df):\n",
    "    \n",
    "    ~The degrees of freedom for a one-sample t-test is df=n−1, where n is the sample size. In this case, df=30−1=29.\n",
    "\n",
    "Step 5: Find the critical value:\n",
    "    \n",
    "    ~At a significance level of 0.05 and df=29, you can find the critical value from a t-distribution table or use a t-\n",
    "     distribution calculator. For a two-tailed test, you would need to find the critical values for both the upper and\n",
    "    lower tails. The critical values for a 0.05 significance level with 29 degrees of freedom are approximately ±2.045.\n",
    "\n",
    "Step 6: Compare the calculated test statistic to the critical value:\n",
    "\n",
    "    ~If ∣t∣≤ critical value, fail to reject the null hypothesis.\n",
    "    ~If ∣t∣> critical value, reject the null hypothesis.\n",
    "    \n",
    "In this case, ∣3.464∣>2.045, so you would reject the null hypothesis.\n",
    "\n",
    "Step 7: Make a decision:\n",
    "    ~Since you rejected the null hypothesis, you can conclude that there is enough evidence to suggest that the\n",
    "     population mean is significantly different from 70 at the 0.05 significance level."
   ]
  }
 ],
 "metadata": {
  "kernelspec": {
   "display_name": "Python 3 (ipykernel)",
   "language": "python",
   "name": "python3"
  },
  "language_info": {
   "codemirror_mode": {
    "name": "ipython",
    "version": 3
   },
   "file_extension": ".py",
   "mimetype": "text/x-python",
   "name": "python",
   "nbconvert_exporter": "python",
   "pygments_lexer": "ipython3",
   "version": "3.10.8"
  }
 },
 "nbformat": 4,
 "nbformat_minor": 5
}
